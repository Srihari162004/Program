{
 "cells": [
  {
   "cell_type": "code",
   "execution_count": 1,
   "id": "66947665-874e-436e-9275-0b47b234ed61",
   "metadata": {},
   "outputs": [
    {
     "name": "stdout",
     "output_type": "stream",
     "text": [
      "Path found: [(0, 0), (1, 0), (2, 0), (3, 0), (4, 0), (4, 1), (4, 2), (4, 3), (4, 4)]\n"
     ]
    }
   ],
   "source": [
    "import heapq\n",
    "\n",
    "class Node:\n",
    "    def __init__(self, state, parent, cost, heuristic):\n",
    "        self.state = state\n",
    "        self.parent = parent\n",
    "        self.cost = cost\n",
    "        self.heuristic = heuristic\n",
    "\n",
    "    def __lt__(self, other):\n",
    "        return self.heuristic < other.heuristic\n",
    "\n",
    "def best_first_search(start, goal, heuristic_fn, get_neighbors_fn):\n",
    "    open_list = []\n",
    "    closed_list = set()\n",
    "    start_node = Node(start, None, 0, heuristic_fn(start, goal))\n",
    "    heapq.heappush(open_list, start_node)\n",
    "\n",
    "    while open_list:\n",
    "        current_node = heapq.heappop(open_list)\n",
    "\n",
    "        if current_node.state == goal:\n",
    "            return reconstruct_path(current_node)\n",
    "\n",
    "        closed_list.add(current_node.state)\n",
    "\n",
    "        for neighbor, cost in get_neighbors_fn(current_node.state):\n",
    "            if neighbor in closed_list:\n",
    "                continue\n",
    "\n",
    "            neighbor_node = Node(neighbor, current_node, current_node.cost + cost, heuristic_fn(neighbor, goal))\n",
    "\n",
    "            # Check if a better path already exists\n",
    "            if any(open_node.state == neighbor and open_node.cost <= neighbor_node.cost for open_node in open_list):\n",
    "                continue\n",
    "\n",
    "            heapq.heappush(open_list, neighbor_node)\n",
    "\n",
    "    return None\n",
    "\n",
    "def reconstruct_path(node):\n",
    "    path = []\n",
    "    while node:\n",
    "        path.append(node.state)\n",
    "        node = node.parent\n",
    "    return path[::-1]\n",
    "\n",
    "def manhattan_distance(state, goal):\n",
    "    return abs(state[0] - goal[0]) + abs(state[1] - goal[1])\n",
    "\n",
    "def get_neighbors(state):\n",
    "    neighbors = []\n",
    "    x, y = state\n",
    "    moves = [(-1, 0), (1, 0), (0, -1), (0, 1)]  # Up, Down, Left, Right\n",
    "    for dx, dy in moves:\n",
    "        neighbor = (x + dx, y + dy)\n",
    "        if 0 <= neighbor[0] < 5 and 0 <= neighbor[1] < 5:\n",
    "            neighbors.append((neighbor, 1))  # All moves cost 1\n",
    "    return neighbors\n",
    "\n",
    "# Run example\n",
    "start = (0, 0)\n",
    "goal = (4, 4)\n",
    "path = best_first_search(start, goal, manhattan_distance, get_neighbors)\n",
    "\n",
    "if path:\n",
    "    print(\"Path found:\", path)\n",
    "else:\n",
    "    print(\"No path found.\")\n"
   ]
  },
  {
   "cell_type": "code",
   "execution_count": null,
   "id": "f560b24d-58b8-471a-ab96-67166369d38a",
   "metadata": {},
   "outputs": [],
   "source": []
  }
 ],
 "metadata": {
  "kernelspec": {
   "display_name": "Python [conda env:base] *",
   "language": "python",
   "name": "conda-base-py"
  },
  "language_info": {
   "codemirror_mode": {
    "name": "ipython",
    "version": 3
   },
   "file_extension": ".py",
   "mimetype": "text/x-python",
   "name": "python",
   "nbconvert_exporter": "python",
   "pygments_lexer": "ipython3",
   "version": "3.12.7"
  }
 },
 "nbformat": 4,
 "nbformat_minor": 5
}
