{
 "cells": [
  {
   "cell_type": "code",
   "execution_count": 2,
   "id": "78c8bd83-7acf-4b18-b84f-989dbf81b00a",
   "metadata": {},
   "outputs": [
    {
     "ename": "ModuleNotFoundError",
     "evalue": "No module named 'pgmpy'",
     "output_type": "error",
     "traceback": [
      "\u001b[1;31m---------------------------------------------------------------------------\u001b[0m",
      "\u001b[1;31mModuleNotFoundError\u001b[0m                       Traceback (most recent call last)",
      "Cell \u001b[1;32mIn[2], line 4\u001b[0m\n\u001b[0;32m      2\u001b[0m \u001b[38;5;28;01mimport\u001b[39;00m \u001b[38;5;21;01mpandas\u001b[39;00m \u001b[38;5;28;01mas\u001b[39;00m \u001b[38;5;21;01mpd\u001b[39;00m\n\u001b[0;32m      3\u001b[0m \u001b[38;5;28;01mimport\u001b[39;00m \u001b[38;5;21;01mcsv\u001b[39;00m\n\u001b[1;32m----> 4\u001b[0m \u001b[38;5;28;01mfrom\u001b[39;00m \u001b[38;5;21;01mpgmpy\u001b[39;00m\u001b[38;5;21;01m.\u001b[39;00m\u001b[38;5;21;01mestimators\u001b[39;00m \u001b[38;5;28;01mimport\u001b[39;00m MaximumLikelihoodEstimator\n\u001b[0;32m      5\u001b[0m \u001b[38;5;28;01mfrom\u001b[39;00m \u001b[38;5;21;01mpgmpy\u001b[39;00m\u001b[38;5;21;01m.\u001b[39;00m\u001b[38;5;21;01mmodels\u001b[39;00m \u001b[38;5;28;01mimport\u001b[39;00m BayesianModel\n\u001b[0;32m      6\u001b[0m \u001b[38;5;28;01mfrom\u001b[39;00m \u001b[38;5;21;01mpgmpy\u001b[39;00m\u001b[38;5;21;01m.\u001b[39;00m\u001b[38;5;21;01minference\u001b[39;00m \u001b[38;5;28;01mimport\u001b[39;00m VariableElimination\n",
      "\u001b[1;31mModuleNotFoundError\u001b[0m: No module named 'pgmpy'"
     ]
    }
   ],
   "source": [
    "import numpy as np\n",
    "import pandas as pd\n",
    "import csv\n",
    "from pgmpy.estimators import MaximumLikelihoodEstimator\n",
    "from pgmpy.models import BayesianModel\n",
    "from pgmpy.inference import VariableElimination\n",
    "\n",
    "# Load the dataset\n",
    "heartDisease = pd.read_csv('Exp 7.csv')\n",
    "heartDisease = heartDisease.replace('?', np.nan)\n",
    "\n",
    "# Display sample instances and data types\n",
    "print('Sample instances from the dataset are given below')\n",
    "print(heartDisease.head())\n",
    "print('\\nAttributes and datatypes')\n",
    "print(heartDisease.dtypes)\n",
    "\n",
    "# Define the Bayesian model structure\n",
    "model = BayesianModel([\n",
    "    ('age', 'heartdisease'),\n",
    "    ('gender', 'heartdisease'),\n",
    "    ('exang', 'heartdisease'),\n",
    "    ('cp', 'heartdisease'),\n",
    "    ('heartdisease', 'restecg'),\n",
    "    ('heartdisease', 'chol')\n",
    "])\n",
    "\n",
    "# Learn the CPDs using Maximum Likelihood Estimator\n",
    "print('\\nLearning CPD using Maximum likelihood estimators')\n",
    "model.fit(heartDisease, estimator=MaximumLikelihoodEstimator)\n",
    "\n",
    "# Perform inference\n",
    "print('\\nInferencing with Bayesian Network:')\n",
    "HeartDiseasetest_infer = VariableElimination(model)\n",
    "\n",
    "# Query 1: Probability of heart disease given restecg=1\n",
    "print('\\n1. Probability of HeartDisease given evidence=restecg')\n",
    "q1 = HeartDiseasetest_infer.query(variables=['heartdisease'], evidence={'restecg': 1})\n",
    "print(q1)\n",
    "\n",
    "# Query 2: Probability of heart disease given cp=2\n",
    "print('\\n2. Probability of HeartDisease given evidence=cp')\n",
    "q2 = HeartDiseasetest_infer.query(variables=['heartdisease'], evidence={'cp': 2})\n",
    "print(q2)"
   ]
  },
  {
   "cell_type": "code",
   "execution_count": 3,
   "id": "46d75aca-9bf1-460b-9e0d-6e547ac26991",
   "metadata": {},
   "outputs": [
    {
     "name": "stdout",
     "output_type": "stream",
     "text": [
      "Defaulting to user installation because normal site-packages is not writeable\n",
      "Requirement already satisfied: pgmpy in c:\\users\\42120220\\appdata\\roaming\\python\\python312\\site-packages (1.0.0)\n",
      "Requirement already satisfied: networkx in c:\\programdata\\anaconda3\\lib\\site-packages (from pgmpy) (3.3)\n",
      "Requirement already satisfied: numpy in c:\\programdata\\anaconda3\\lib\\site-packages (from pgmpy) (1.26.4)\n",
      "Requirement already satisfied: scipy in c:\\programdata\\anaconda3\\lib\\site-packages (from pgmpy) (1.13.1)\n",
      "Requirement already satisfied: scikit-learn in c:\\programdata\\anaconda3\\lib\\site-packages (from pgmpy) (1.5.1)\n",
      "Requirement already satisfied: pandas in c:\\programdata\\anaconda3\\lib\\site-packages (from pgmpy) (2.2.2)\n",
      "Requirement already satisfied: torch in c:\\users\\42120220\\appdata\\roaming\\python\\python312\\site-packages (from pgmpy) (2.7.1)\n",
      "Requirement already satisfied: statsmodels in c:\\programdata\\anaconda3\\lib\\site-packages (from pgmpy) (0.14.2)\n",
      "Requirement already satisfied: tqdm in c:\\programdata\\anaconda3\\lib\\site-packages (from pgmpy) (4.66.5)\n",
      "Requirement already satisfied: joblib in c:\\programdata\\anaconda3\\lib\\site-packages (from pgmpy) (1.4.2)\n",
      "Requirement already satisfied: opt-einsum in c:\\users\\42120220\\appdata\\roaming\\python\\python312\\site-packages (from pgmpy) (3.4.0)\n",
      "Requirement already satisfied: pyro-ppl in c:\\users\\42120220\\appdata\\roaming\\python\\python312\\site-packages (from pgmpy) (1.9.1)\n",
      "Requirement already satisfied: python-dateutil>=2.8.2 in c:\\programdata\\anaconda3\\lib\\site-packages (from pandas->pgmpy) (2.9.0.post0)\n",
      "Requirement already satisfied: pytz>=2020.1 in c:\\programdata\\anaconda3\\lib\\site-packages (from pandas->pgmpy) (2024.1)\n",
      "Requirement already satisfied: tzdata>=2022.7 in c:\\programdata\\anaconda3\\lib\\site-packages (from pandas->pgmpy) (2023.3)\n",
      "Requirement already satisfied: pyro-api>=0.1.1 in c:\\users\\42120220\\appdata\\roaming\\python\\python312\\site-packages (from pyro-ppl->pgmpy) (0.1.2)\n",
      "Requirement already satisfied: filelock in c:\\programdata\\anaconda3\\lib\\site-packages (from torch->pgmpy) (3.13.1)\n",
      "Requirement already satisfied: typing-extensions>=4.10.0 in c:\\programdata\\anaconda3\\lib\\site-packages (from torch->pgmpy) (4.11.0)\n",
      "Requirement already satisfied: sympy>=1.13.3 in c:\\users\\42120220\\appdata\\roaming\\python\\python312\\site-packages (from torch->pgmpy) (1.14.0)\n",
      "Requirement already satisfied: jinja2 in c:\\programdata\\anaconda3\\lib\\site-packages (from torch->pgmpy) (3.1.4)\n",
      "Requirement already satisfied: fsspec in c:\\programdata\\anaconda3\\lib\\site-packages (from torch->pgmpy) (2024.6.1)\n",
      "Requirement already satisfied: setuptools in c:\\programdata\\anaconda3\\lib\\site-packages (from torch->pgmpy) (75.1.0)\n",
      "Requirement already satisfied: colorama in c:\\programdata\\anaconda3\\lib\\site-packages (from tqdm->pgmpy) (0.4.6)\n",
      "Requirement already satisfied: threadpoolctl>=3.1.0 in c:\\programdata\\anaconda3\\lib\\site-packages (from scikit-learn->pgmpy) (3.5.0)\n",
      "Requirement already satisfied: patsy>=0.5.6 in c:\\programdata\\anaconda3\\lib\\site-packages (from statsmodels->pgmpy) (0.5.6)\n",
      "Requirement already satisfied: packaging>=21.3 in c:\\programdata\\anaconda3\\lib\\site-packages (from statsmodels->pgmpy) (24.1)\n",
      "Requirement already satisfied: six in c:\\programdata\\anaconda3\\lib\\site-packages (from patsy>=0.5.6->statsmodels->pgmpy) (1.16.0)\n",
      "Requirement already satisfied: mpmath<1.4,>=1.1.0 in c:\\programdata\\anaconda3\\lib\\site-packages (from sympy>=1.13.3->torch->pgmpy) (1.3.0)\n",
      "Requirement already satisfied: MarkupSafe>=2.0 in c:\\programdata\\anaconda3\\lib\\site-packages (from jinja2->torch->pgmpy) (2.1.3)\n",
      "Note: you may need to restart the kernel to use updated packages.\n"
     ]
    }
   ],
   "source": [
    "pip install pgmpy"
   ]
  },
  {
   "cell_type": "code",
   "execution_count": 6,
   "id": "00a5774c-f1ad-4681-888d-3d168948b7b0",
   "metadata": {
    "scrolled": true
   },
   "outputs": [
    {
     "name": "stderr",
     "output_type": "stream",
     "text": [
      "INFO:pgmpy: Datatype (N=numerical, C=Categorical Unordered, O=Categorical Ordered) inferred from data: \n",
      " {'age': 'N', 'gender': 'N', 'exang': 'N', 'cp': 'N', 'restecg': 'N', 'chol': 'N', 'heartdisease': 'N'}\n"
     ]
    },
    {
     "name": "stdout",
     "output_type": "stream",
     "text": [
      "Sample instances from the dataset are given below\n",
      "   age  gender  exang  cp  restecg  chol  heartdisease\n",
      "0    0       1      0   0        0     0             0\n",
      "1    1       1      1   2        1     1             1\n",
      "2    2       0      0   1        0     0             0\n",
      "3    3       1      1   3        2     2             1\n",
      "4    1       0      0   2        1     1             0\n",
      "\n",
      "Attributes and datatypes\n",
      "age             int32\n",
      "gender          int32\n",
      "exang           int32\n",
      "cp              int32\n",
      "restecg         int32\n",
      "chol            int32\n",
      "heartdisease    int32\n",
      "dtype: object\n",
      "\n",
      "Learning CPD using Maximum likelihood estimators\n",
      "\n",
      "Inferencing with Bayesian Network:\n",
      "\n",
      "1. Probability of HeartDisease given evidence=restecg\n",
      "+-----------------+---------------------+\n",
      "| heartdisease    |   phi(heartdisease) |\n",
      "+=================+=====================+\n",
      "| heartdisease(0) |              0.3817 |\n",
      "+-----------------+---------------------+\n",
      "| heartdisease(1) |              0.6183 |\n",
      "+-----------------+---------------------+\n",
      "\n",
      "2. Probability of HeartDisease given evidence=cp\n",
      "+-----------------+---------------------+\n",
      "| heartdisease    |   phi(heartdisease) |\n",
      "+=================+=====================+\n",
      "| heartdisease(0) |              0.4871 |\n",
      "+-----------------+---------------------+\n",
      "| heartdisease(1) |              0.5129 |\n",
      "+-----------------+---------------------+\n"
     ]
    }
   ],
   "source": [
    "import numpy as np\n",
    "import pandas as pd\n",
    "import csv\n",
    "from pgmpy.estimators import MaximumLikelihoodEstimator\n",
    "from pgmpy.models import DiscreteBayesianNetwork  # ✅ Updated import\n",
    "from pgmpy.inference import VariableElimination\n",
    "\n",
    "# Load the dataset\n",
    "heartDisease = pd.read_csv('7.csv')\n",
    "heartDisease = heartDisease.replace('?', np.nan)\n",
    "heartDisease = heartDisease.astype(int)\n",
    "\n",
    "# Display sample instances and data types\n",
    "print('Sample instances from the dataset are given below')\n",
    "print(heartDisease.head())\n",
    "print('\\nAttributes and datatypes')\n",
    "print(heartDisease.dtypes)\n",
    "\n",
    "# Define the Bayesian network structure\n",
    "model = DiscreteBayesianNetwork([\n",
    "    ('age', 'heartdisease'),\n",
    "    ('gender', 'heartdisease'),\n",
    "    ('exang', 'heartdisease'),\n",
    "    ('cp', 'heartdisease'),\n",
    "    ('heartdisease', 'restecg'),\n",
    "    ('heartdisease', 'chol')\n",
    "])\n",
    "\n",
    "# Learn the CPDs using Maximum Likelihood Estimator\n",
    "print('\\nLearning CPD using Maximum likelihood estimators')\n",
    "model.fit(heartDisease, estimator=MaximumLikelihoodEstimator)\n",
    "\n",
    "# Perform inference\n",
    "print('\\nInferencing with Bayesian Network:')\n",
    "HeartDiseasetest_infer = VariableElimination(model)\n",
    "\n",
    "# Query 1: Probability of heart disease given restecg=1\n",
    "print('\\n1. Probability of HeartDisease given evidence=restecg')\n",
    "q1 = HeartDiseasetest_infer.query(variables=['heartdisease'], evidence={'restecg': 1})\n",
    "print(q1)\n",
    "\n",
    "# Query 2: Probability of heart disease given cp=2\n",
    "print('\\n2. Probability of HeartDisease given evidence=cp')\n",
    "q2 = HeartDiseasetest_infer.query(variables=['heartdisease'], evidence={'cp': 2})\n",
    "print(q2)\n"
   ]
  },
  {
   "cell_type": "code",
   "execution_count": null,
   "id": "733d324e-cd4f-4e57-a8e3-3590d0622cd8",
   "metadata": {},
   "outputs": [],
   "source": []
  }
 ],
 "metadata": {
  "kernelspec": {
   "display_name": "Python [conda env:base] *",
   "language": "python",
   "name": "conda-base-py"
  },
  "language_info": {
   "codemirror_mode": {
    "name": "ipython",
    "version": 3
   },
   "file_extension": ".py",
   "mimetype": "text/x-python",
   "name": "python",
   "nbconvert_exporter": "python",
   "pygments_lexer": "ipython3",
   "version": "3.12.7"
  }
 },
 "nbformat": 4,
 "nbformat_minor": 5
}
